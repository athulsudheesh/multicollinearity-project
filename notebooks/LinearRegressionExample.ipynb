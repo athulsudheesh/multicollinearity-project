{
 "cells": [
  {
   "cell_type": "code",
   "execution_count": 1,
   "source": [
    "using CSV, DataFrames, RDatasets, DrWatson\n",
    "using Flux, Optim"
   ],
   "outputs": [],
   "metadata": {}
  },
  {
   "cell_type": "markdown",
   "source": [
    "# Empirical Risk Minimization Framework "
   ],
   "metadata": {}
  },
  {
   "cell_type": "markdown",
   "source": [
    "### Selecting the Model and Dataset "
   ],
   "metadata": {}
  },
  {
   "cell_type": "code",
   "execution_count": 7,
   "source": [
    "datapath = datadir(\"exp_raw\");\n",
    "advertising = CSV.File(joinpath(datapath, \"Advertising.csv\")) |> DataFrame\n",
    "advertising = advertising[!,Not(:Column1)]\n",
    "n,m = size(advertising)\n",
    "first(advertising,5)\n",
    "X= [ones(n) Matrix(advertising[:,Not(:Sales)])]\n",
    "y = advertising.Sales;"
   ],
   "outputs": [],
   "metadata": {}
  },
  {
   "cell_type": "markdown",
   "source": [
    "We'll have a linear model where $$ \\text{Sales} = \\beta_0 + \\beta_1 \\text{TV} + \\beta_2 \\text{Radio} + \\beta_3 \\text{Newspaper}$$"
   ],
   "metadata": {}
  },
  {
   "cell_type": "code",
   "execution_count": 8,
   "source": [
    "# prediction fucntion \n",
    "ŷ(X,β) = X * β"
   ],
   "outputs": [
    {
     "output_type": "execute_result",
     "data": {
      "text/plain": [
       "ŷ (generic function with 1 method)"
      ]
     },
     "metadata": {},
     "execution_count": 8
    }
   ],
   "metadata": {}
  },
  {
   "cell_type": "code",
   "execution_count": 16,
   "source": [
    "# cost function: root mean sqaured error \n",
    "rmse_i(β) = (i,) -> sqrt(Flux.Losses.mse(ŷ(X[i],β),y[i]))"
   ],
   "outputs": [
    {
     "output_type": "execute_result",
     "data": {
      "text/plain": [
       "rmse_i (generic function with 1 method)"
      ]
     },
     "metadata": {},
     "execution_count": 16
    }
   ],
   "metadata": {}
  },
  {
   "cell_type": "code",
   "execution_count": 9,
   "source": [
    "rmse(β) = sqrt(Flux.Losses.mse(ŷ(X,β),y))"
   ],
   "outputs": [
    {
     "output_type": "execute_result",
     "data": {
      "text/plain": [
       "rmse (generic function with 1 method)"
      ]
     },
     "metadata": {},
     "execution_count": 9
    }
   ],
   "metadata": {}
  },
  {
   "cell_type": "code",
   "execution_count": 10,
   "source": [
    "rmse(β)"
   ],
   "outputs": [
    {
     "output_type": "execute_result",
     "data": {
      "text/plain": [
       "71.29025671010615"
      ]
     },
     "metadata": {},
     "execution_count": 10
    }
   ],
   "metadata": {}
  },
  {
   "cell_type": "code",
   "execution_count": 11,
   "source": [
    "β = zeros(m)\n",
    "results = optimize(rmse,β)"
   ],
   "outputs": [
    {
     "output_type": "execute_result",
     "data": {
      "text/plain": [
       " * Status: success\n",
       "\n",
       " * Candidate solution\n",
       "    Final objective value:     1.668570e+00\n",
       "\n",
       " * Found with\n",
       "    Algorithm:     Nelder-Mead\n",
       "\n",
       " * Convergence measures\n",
       "    √(Σ(yᵢ-ȳ)²)/n ≤ 1.0e-08\n",
       "\n",
       " * Work counters\n",
       "    Seconds run:   0  (vs limit Inf)\n",
       "    Iterations:    225\n",
       "    f(x) calls:    403\n"
      ]
     },
     "metadata": {},
     "execution_count": 11
    }
   ],
   "metadata": {}
  },
  {
   "cell_type": "code",
   "execution_count": 12,
   "source": [
    "params = Optim.minimizer(results)"
   ],
   "outputs": [
    {
     "output_type": "execute_result",
     "data": {
      "text/plain": [
       "4-element Vector{Float64}:\n",
       "  2.938725446932781\n",
       "  0.04576475301502275\n",
       "  0.1885348308546321\n",
       " -0.001037439568134145"
      ]
     },
     "metadata": {},
     "execution_count": 12
    }
   ],
   "metadata": {}
  },
  {
   "cell_type": "markdown",
   "source": [
    "# Least Sqaures Method"
   ],
   "metadata": {}
  },
  {
   "cell_type": "code",
   "execution_count": null,
   "source": [
    "using GLM\n",
    "ols =lm(@formula(Sales ~ 1 + TV + Radio + Newspaper),advertising)"
   ],
   "outputs": [
    {
     "output_type": "execute_result",
     "data": {
      "text/plain": [
       "StatsModels.TableRegressionModel{LinearModel{GLM.LmResp{Vector{Float64}}, GLM.DensePredChol{Float64, LinearAlgebra.CholeskyPivoted{Float64, Matrix{Float64}}}}, Matrix{Float64}}\n",
       "\n",
       "Sales ~ 1 + TV + Radio + Newspaper\n",
       "\n",
       "Coefficients:\n",
       "────────────────────────────────────────────────────────────────────────────\n",
       "                   Coef.  Std. Error      t  Pr(>|t|)   Lower 95%  Upper 95%\n",
       "────────────────────────────────────────────────────────────────────────────\n",
       "(Intercept)   2.93889     0.311908     9.42    <1e-16   2.32376    3.55402\n",
       "TV            0.0457646   0.0013949   32.81    <1e-80   0.0430137  0.0485156\n",
       "Radio         0.18853     0.00861123  21.89    <1e-53   0.171547   0.205513\n",
       "Newspaper    -0.00103749  0.00587101  -0.18    0.8599  -0.012616   0.010541\n",
       "────────────────────────────────────────────────────────────────────────────"
      ]
     },
     "metadata": {},
     "execution_count": 91
    }
   ],
   "metadata": {}
  },
  {
   "cell_type": "markdown",
   "source": [
    "We see that estimates from Empirircal Risk Minimization method and OLS match"
   ],
   "metadata": {}
  },
  {
   "cell_type": "markdown",
   "source": [
    "# Gradients & Hessians"
   ],
   "metadata": {}
  },
  {
   "cell_type": "code",
   "execution_count": 21,
   "source": [
    "using Zygote"
   ],
   "outputs": [],
   "metadata": {}
  },
  {
   "cell_type": "code",
   "execution_count": 13,
   "source": [
    "temp = Matrix{Float64}(undef,n,m);"
   ],
   "outputs": [],
   "metadata": {}
  },
  {
   "cell_type": "code",
   "execution_count": 17,
   "source": [
    "for i in 1:n\n",
    "    temp[i,:] =gradient(x->rmse_i(x)(i),params)[1]\n",
    "end"
   ],
   "outputs": [],
   "metadata": {}
  },
  {
   "cell_type": "code",
   "execution_count": 25,
   "source": [
    "# this is B matrix\n",
    "B = temp*temp' ./n"
   ],
   "outputs": [
    {
     "output_type": "execute_result",
     "data": {
      "text/plain": [
       "200×200 Matrix{Float64}:\n",
       " 0.00125     0.00124691  0.00124531  …  0.00124875  0.00124996  0.001249\n",
       " 0.00124691  0.00125     0.00124983     0.00124959  0.00124617  0.00124942\n",
       " 0.00124531  0.00124983  0.00125        0.0012489   0.0012444   0.00124864\n",
       " 0.00124991  0.00124786  0.0012465      0.00124932  0.00124976  0.0012495\n",
       " 0.00124879  0.00124957  0.00124886     0.00125     0.00124831  0.00124999\n",
       " 0.00123894  0.00124753  0.00124865  …  0.00124513  0.00123757  0.00124458\n",
       " 0.00124817  0.00124984  0.00124934     0.00124995  0.00124759  0.00124987\n",
       " 0.00124892  0.00124948  0.00124873     0.00124999  0.00124847  0.00125\n",
       " 0.00121354  0.00123159  0.00123493     0.00122574  0.0012111   0.00122454\n",
       " 0.00124714  0.00125     0.00124977     0.00124967  0.00124642  0.00124952\n",
       " 0.00124382  0.00124947  0.0012499   …  0.00124813  0.00124279  0.00124779\n",
       " 0.00124983  0.00124819  0.00124692     0.0012495   0.00124963  0.00124965\n",
       " 0.00124512  0.0012498   0.00125        0.00124881  0.0012442   0.00124853\n",
       " ⋮                                   ⋱                          \n",
       " 0.00124965  0.00124865  0.00124753     0.00124972  0.00124937  0.00124984\n",
       " 0.00123617  0.00124614  0.00124758     0.00124324  0.00123465  0.00124259\n",
       " 0.00124734  0.00124998  0.00124971  …  0.00124974  0.00124665  0.0012496\n",
       " 0.00124627  0.00124997  0.00124994     0.00124934  0.00124546  0.00124913\n",
       " 0.00122977  0.00124246  0.00124454     0.00123856  0.00122794  0.00123773\n",
       " 0.00124996  0.00124755  0.00124611     0.00124914  0.00124985  0.00124935\n",
       " 0.00124982  0.00124822  0.00124696     0.00124951  0.00124961  0.00124967\n",
       " 0.00124069  0.00124832  0.00124921  …  0.00124626  0.00123943  0.00124578\n",
       " 0.00124598  0.00124994  0.00124997     0.00124922  0.00124514  0.00124898\n",
       " 0.00124875  0.00124959  0.0012489      0.00125     0.00124826  0.00124999\n",
       " 0.00124996  0.00124617  0.0012444      0.00124826  0.00125     0.00124856\n",
       " 0.001249    0.00124942  0.00124864     0.00124999  0.00124856  0.00125"
      ]
     },
     "metadata": {},
     "execution_count": 25
    }
   ],
   "metadata": {}
  },
  {
   "cell_type": "code",
   "execution_count": 35,
   "source": [
    "B = temp' * temp /n "
   ],
   "outputs": [
    {
     "output_type": "execute_result",
     "data": {
      "text/plain": [
       "4×4 Matrix{Float64}:\n",
       " 0.0409334  0.0523974  0.0518317  0.0525829\n",
       " 0.0523974  0.0700742  0.0692018  0.0703602\n",
       " 0.0518317  0.0692018  0.0683446  0.0694829\n",
       " 0.0525829  0.0703602  0.0694829  0.0706478"
      ]
     },
     "metadata": {},
     "execution_count": 35
    }
   ],
   "metadata": {}
  },
  {
   "cell_type": "code",
   "execution_count": 48,
   "source": [
    "using CovarianceEstimation\n",
    "cov(SimpleCovariance(), X)"
   ],
   "outputs": [
    {
     "output_type": "execute_result",
     "data": {
      "text/plain": [
       "4×4 Matrix{Float64}:\n",
       " 0.0     0.0       0.0       0.0\n",
       " 0.0  7334.1      69.5132  105.39\n",
       " 0.0    69.5132  219.326   113.924\n",
       " 0.0   105.39    113.924   471.937"
      ]
     },
     "metadata": {},
     "execution_count": 48
    }
   ],
   "metadata": {}
  },
  {
   "cell_type": "code",
   "execution_count": 40,
   "source": [
    "OPG= inv(B) /n\n",
    "eigvals(OPG)"
   ],
   "outputs": [
    {
     "output_type": "execute_result",
     "data": {
      "text/plain": [
       "4-element Vector{Float64}:\n",
       " -9.29892995642298e13\n",
       "  0.03332442227707699\n",
       "  3.437997727325799\n",
       "  2.2462862690264528e14"
      ]
     },
     "metadata": {},
     "execution_count": 40
    }
   ],
   "metadata": {}
  },
  {
   "cell_type": "code",
   "execution_count": 64,
   "source": [
    "hessian(x->rmse(x)(1),β)"
   ],
   "outputs": [
    {
     "output_type": "execute_result",
     "data": {
      "text/plain": [
       "4×4 Matrix{Float64}:\n",
       "  80.7507   -19.6684  -21.6171   -9.10628\n",
       " -19.6684    59.0192  -36.6388  -15.4342\n",
       " -21.6171   -36.6388   52.0863  -16.9634\n",
       "  -9.10628  -15.4342  -16.9634   85.2092"
      ]
     },
     "metadata": {},
     "execution_count": 64
    }
   ],
   "metadata": {}
  },
  {
   "cell_type": "code",
   "execution_count": 24,
   "source": [
    "gradient(rmse,params)[1]"
   ],
   "outputs": [
    {
     "output_type": "execute_result",
     "data": {
      "text/plain": [
       "4-element Vector{Float64}:\n",
       " -2.066524952348131e-5\n",
       " -0.00236197067723376\n",
       "  0.00016014468936864645\n",
       " -0.0002808079625291615"
      ]
     },
     "metadata": {},
     "execution_count": 24
    }
   ],
   "metadata": {}
  },
  {
   "cell_type": "code",
   "execution_count": 36,
   "source": [
    "using LinearAlgebra\n",
    "isposdef(B)"
   ],
   "outputs": [
    {
     "output_type": "execute_result",
     "data": {
      "text/plain": [
       "false"
      ]
     },
     "metadata": {},
     "execution_count": 36
    }
   ],
   "metadata": {}
  },
  {
   "cell_type": "code",
   "execution_count": 49,
   "source": [
    "using StatsBase"
   ],
   "outputs": [],
   "metadata": {}
  },
  {
   "cell_type": "code",
   "execution_count": 52,
   "source": [
    "standardize(ZScoreTransform, X, dims=1)"
   ],
   "outputs": [
    {
     "output_type": "execute_result",
     "data": {
      "text/plain": [
       "200×4 Matrix{Float64}:\n",
       " NaN   0.967425    0.979066    1.77449\n",
       " NaN  -1.19438     1.0801      0.667903\n",
       " NaN  -1.51236     1.52464     1.77908\n",
       " NaN   0.0519194   1.21481     1.28319\n",
       " NaN   0.393196   -0.839507    1.27859\n",
       " NaN  -1.61136     1.7267      2.04081\n",
       " NaN  -1.04296     0.642293   -0.323896\n",
       " NaN  -0.312652   -0.246787   -0.870303\n",
       " NaN  -1.61253    -1.42549    -1.35702\n",
       " NaN   0.614501   -1.39181    -0.429504\n",
       " NaN  -0.94279    -1.17628    -0.291754\n",
       " NaN   0.788051    0.0495729  -1.21927\n",
       " NaN  -1.43549     0.797208    1.62297\n",
       "   ⋮                          \n",
       " NaN   1.61853    -0.630708   -1.23304\n",
       " NaN  -1.49489    -0.751946   -0.328487\n",
       " NaN  -1.25262     1.20134    -1.13662\n",
       " NaN  -0.833302   -0.839507   -1.12744\n",
       " NaN  -1.51236    -1.29078     0.0480288\n",
       " NaN   0.230128    1.26195    -1.23764\n",
       " NaN   0.0309536   0.830886   -1.12744\n",
       " NaN  -1.26776    -1.31772    -0.769287\n",
       " NaN  -0.615491   -1.2369     -1.03101\n",
       " NaN   0.348934   -0.940539   -1.10907\n",
       " NaN   1.59057     1.26195     1.63674\n",
       " NaN   0.99072    -0.987687   -1.00346"
      ]
     },
     "metadata": {},
     "execution_count": 52
    }
   ],
   "metadata": {}
  },
  {
   "cell_type": "code",
   "execution_count": null,
   "source": [],
   "outputs": [],
   "metadata": {}
  }
 ],
 "metadata": {
  "orig_nbformat": 4,
  "language_info": {
   "file_extension": ".jl",
   "name": "julia",
   "mimetype": "application/julia",
   "version": "1.6.2"
  },
  "kernelspec": {
   "name": "julia-1.6",
   "display_name": "Julia 1.6.2",
   "language": "julia"
  }
 },
 "nbformat": 4,
 "nbformat_minor": 2
}