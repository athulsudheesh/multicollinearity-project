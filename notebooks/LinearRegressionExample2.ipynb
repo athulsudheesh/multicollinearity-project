{
 "cells": [
  {
   "cell_type": "code",
   "execution_count": 125,
   "source": [
    "using CSV, DataFrames, RDatasets, DrWatson\n",
    "using Flux, Optim\n",
    "using StatsBase\n",
    "using Zygote"
   ],
   "outputs": [],
   "metadata": {}
  },
  {
   "cell_type": "code",
   "execution_count": 6,
   "source": [
    "datapath = datadir(\"exp_raw\");\n",
    "advertising = CSV.File(joinpath(datapath, \"Advertising.csv\")) |> DataFrame\n",
    "advertising = advertising[!,Not(:Column1)]\n",
    "n,m = size(advertising)\n",
    "first(advertising,5)\n",
    "X= [ones(n) standardize(ZScoreTransform,Matrix(advertising[:,Not(:Sales)]), dims=1) ]\n",
    "y = standardize(ZScoreTransform,advertising.Sales);"
   ],
   "outputs": [],
   "metadata": {}
  },
  {
   "cell_type": "markdown",
   "source": [
    "# Defining Empirical Risk Function "
   ],
   "metadata": {}
  },
  {
   "cell_type": "code",
   "execution_count": 126,
   "source": [
    "ŷ(X,β) = X * β # y_prediction \n",
    "loss = L2DistLoss() \n",
    "mse(β) = sum(value(loss,ŷ(X,β),y))\n",
    "mse_i(β) = (i,) -> sum(value(loss,ŷ(X[i,:]',β),y[i])) # to compute empirical risk at each observation "
   ],
   "outputs": [
    {
     "output_type": "execute_result",
     "data": {
      "text/plain": [
       "mse_i (generic function with 1 method)"
      ]
     },
     "metadata": {},
     "execution_count": 126
    }
   ],
   "metadata": {}
  },
  {
   "cell_type": "markdown",
   "source": [
    "# Optimizing using Empirical Risk Minimization Framework "
   ],
   "metadata": {}
  },
  {
   "cell_type": "code",
   "execution_count": 127,
   "source": [
    "β = zeros(m)\n",
    "results = optimize(mse,β)"
   ],
   "outputs": [
    {
     "output_type": "execute_result",
     "data": {
      "text/plain": [
       " * Status: success\n",
       "\n",
       " * Candidate solution\n",
       "    Final objective value:     2.045508e+01\n",
       "\n",
       " * Found with\n",
       "    Algorithm:     Nelder-Mead\n",
       "\n",
       " * Convergence measures\n",
       "    √(Σ(yᵢ-ȳ)²)/n ≤ 1.0e-08\n",
       "\n",
       " * Work counters\n",
       "    Seconds run:   0  (vs limit Inf)\n",
       "    Iterations:    145\n",
       "    f(x) calls:    256\n"
      ]
     },
     "metadata": {},
     "execution_count": 127
    }
   ],
   "metadata": {}
  },
  {
   "cell_type": "markdown",
   "source": [
    "# Extracting the strict local minimizer "
   ],
   "metadata": {}
  },
  {
   "cell_type": "code",
   "execution_count": 234,
   "source": [
    "params = Optim.minimizer(results)"
   ],
   "outputs": [
    {
     "output_type": "execute_result",
     "data": {
      "text/plain": [
       "4-element Vector{Float64}:\n",
       " -8.16027306269304e-7\n",
       "  0.7530632323952828\n",
       "  0.5364769753595116\n",
       " -0.004324142304595064"
      ]
     },
     "metadata": {},
     "execution_count": 234
    }
   ],
   "metadata": {}
  },
  {
   "cell_type": "code",
   "execution_count": 235,
   "source": [
    "norm(gradient(mse,params)[1], Inf)"
   ],
   "outputs": [
    {
     "output_type": "execute_result",
     "data": {
      "text/plain": [
       "0.0018993835840421802"
      ]
     },
     "metadata": {},
     "execution_count": 235
    }
   ],
   "metadata": {}
  },
  {
   "cell_type": "markdown",
   "source": [
    "### Gradients at each data point - $g_i$"
   ],
   "metadata": {}
  },
  {
   "cell_type": "code",
   "execution_count": 132,
   "source": [
    "G = Matrix{Float64}(undef,n,m);\n",
    "for i in 1:n\n",
    "    G[i,:] = gradient(x->mse_i(x)(i),params)[1]\n",
    "end"
   ],
   "outputs": [],
   "metadata": {}
  },
  {
   "cell_type": "code",
   "execution_count": 136,
   "source": [
    "B = G' * G / n "
   ],
   "outputs": [
    {
     "output_type": "execute_result",
     "data": {
      "text/plain": [
       "4×4 Matrix{Float64}:\n",
       "  0.409102   -0.140573    0.0303325  -0.0316571\n",
       " -0.140573    0.739208   -0.26708    -0.0103427\n",
       "  0.0303325  -0.26708     0.598395    0.160148\n",
       " -0.0316571  -0.0103427   0.160148    0.469238"
      ]
     },
     "metadata": {},
     "execution_count": 136
    }
   ],
   "metadata": {}
  },
  {
   "cell_type": "code",
   "execution_count": 143,
   "source": [
    "OPG = inv(B) / n \n",
    "eigvals(OPG)"
   ],
   "outputs": [
    {
     "output_type": "execute_result",
     "data": {
      "text/plain": [
       "4-element Vector{Float64}:\n",
       " 0.005036217242648921\n",
       " 0.008646567139358663\n",
       " 0.014254829451392323\n",
       " 0.017000355021203825"
      ]
     },
     "metadata": {},
     "execution_count": 143
    }
   ],
   "metadata": {}
  },
  {
   "cell_type": "code",
   "execution_count": 215,
   "source": [
    "A = hessian(mse,params) / n "
   ],
   "outputs": [
    {
     "output_type": "execute_result",
     "data": {
      "text/plain": [
       "4×4 Matrix{Float64}:\n",
       " 2.0          9.17044e-16  6.52811e-16  4.52971e-16\n",
       " 9.17044e-16  1.99         0.109069     0.112729\n",
       " 6.52811e-16  0.109069     1.99         0.704666\n",
       " 4.52971e-16  0.112729     0.704666     1.99"
      ]
     },
     "metadata": {},
     "execution_count": 215
    }
   ],
   "metadata": {}
  },
  {
   "cell_type": "code",
   "execution_count": 216,
   "source": [
    "C = inv(A) * B * inv(A)"
   ],
   "outputs": [
    {
     "output_type": "execute_result",
     "data": {
      "text/plain": [
       "4×4 Matrix{Float64}:\n",
       "  0.102275   -0.0354467   0.0133426  -0.0106707\n",
       " -0.0354467   0.194618   -0.0903056   0.0116464\n",
       "  0.0133426  -0.0903056   0.18639    -0.0622513\n",
       " -0.0106707   0.0116464  -0.0622513   0.140886"
      ]
     },
     "metadata": {},
     "execution_count": 216
    }
   ],
   "metadata": {}
  },
  {
   "cell_type": "markdown",
   "source": [
    "## Checking if both A and B are positive definite "
   ],
   "metadata": {}
  },
  {
   "cell_type": "code",
   "execution_count": 201,
   "source": [
    "@show isposdef(A);\n",
    "@show isposdef(B);"
   ],
   "outputs": [
    {
     "output_type": "stream",
     "name": "stdout",
     "text": [
      "isposdef(A) = true\n",
      "isposdef(B) = true\n"
     ]
    }
   ],
   "metadata": {}
  },
  {
   "cell_type": "markdown",
   "source": [
    "# Robust Covariane Matrix using $\\hat{C}$"
   ],
   "metadata": {}
  },
  {
   "cell_type": "code",
   "execution_count": 236,
   "source": [
    "robust_cov = C / n "
   ],
   "outputs": [
    {
     "output_type": "execute_result",
     "data": {
      "text/plain": [
       "4×4 Matrix{Float64}:\n",
       "  0.000511377  -0.000177234   6.67128e-5   -5.33536e-5\n",
       " -0.000177234   0.000973091  -0.000451528   5.82321e-5\n",
       "  6.67128e-5   -0.000451528   0.000931948  -0.000311257\n",
       " -5.33536e-5    5.82321e-5   -0.000311257   0.00070443"
      ]
     },
     "metadata": {},
     "execution_count": 236
    }
   ],
   "metadata": {}
  },
  {
   "cell_type": "markdown",
   "source": [
    "# Classical Convariance Matrix using $\\hat{A}$"
   ],
   "metadata": {}
  },
  {
   "cell_type": "code",
   "execution_count": 219,
   "source": [
    "classical_cov = inv(A) / n "
   ],
   "outputs": [
    {
     "output_type": "execute_result",
     "data": {
      "text/plain": [
       "4×4 Matrix{Float64}:\n",
       "  0.0025       -1.1003e-18   -6.6358e-19   -2.71753e-19\n",
       " -1.1003e-18    0.00252415   -0.000100288  -0.000107475\n",
       " -6.6358e-19   -0.000100288   0.00287676   -0.00101299\n",
       " -2.71753e-19  -0.000107475  -0.00101299    0.00287736"
      ]
     },
     "metadata": {},
     "execution_count": 219
    }
   ],
   "metadata": {}
  },
  {
   "cell_type": "code",
   "execution_count": 213,
   "source": [
    "using StatsBase\n",
    "cov(X)"
   ],
   "outputs": [
    {
     "output_type": "execute_result",
     "data": {
      "text/plain": [
       "4×4 Matrix{Float64}:\n",
       " 0.0  0.0        0.0        0.0\n",
       " 0.0  1.0        0.0548087  0.0566479\n",
       " 0.0  0.0548087  1.0        0.354104\n",
       " 0.0  0.0566479  0.354104   1.0"
      ]
     },
     "metadata": {},
     "execution_count": 213
    }
   ],
   "metadata": {}
  },
  {
   "cell_type": "code",
   "execution_count": 239,
   "source": [
    "@show eigvals(C);\n",
    "@show eigvals(A);\n",
    "@show eigvals(B);"
   ],
   "outputs": [
    {
     "output_type": "stream",
     "name": "stdout",
     "text": [
      "eigvals(C) = [0.0681588120967666, 0.10031296639954473, 0.1509827824118953, 0.3047145076944646]\n",
      "eigvals(A) = [1.2853237896526644, 1.9566797166627166, 2.0, 2.7279964936846173]\n",
      "eigvals(B) = [0.2941115049517326, 0.3507583178774283, 0.5782641734475517, 0.9928086417038937]\n"
     ]
    }
   ],
   "metadata": {}
  },
  {
   "cell_type": "code",
   "execution_count": null,
   "source": [],
   "outputs": [],
   "metadata": {}
  }
 ],
 "metadata": {
  "kernelspec": {
   "display_name": "Julia 1.6.2",
   "language": "julia",
   "name": "julia-1.6"
  },
  "language_info": {
   "file_extension": ".jl",
   "mimetype": "application/julia",
   "name": "julia",
   "version": "1.6.2"
  }
 },
 "nbformat": 4,
 "nbformat_minor": 2
}