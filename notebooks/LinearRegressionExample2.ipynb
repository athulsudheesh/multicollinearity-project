{
 "cells": [
  {
   "cell_type": "code",
   "execution_count": 125,
   "metadata": {},
   "outputs": [],
   "source": [
    "using CSV, DataFrames, RDatasets, DrWatson\n",
    "using Flux, Optim\n",
    "using StatsBase\n",
    "using Zygote"
   ]
  },
  {
   "cell_type": "code",
   "execution_count": 6,
   "metadata": {},
   "outputs": [],
   "source": [
    "datapath = datadir(\"exp_raw\");\n",
    "advertising = CSV.File(joinpath(datapath, \"Advertising.csv\")) |> DataFrame\n",
    "advertising = advertising[!,Not(:Column1)]\n",
    "n,m = size(advertising)\n",
    "first(advertising,5)\n",
    "X= [ones(n) standardize(ZScoreTransform,Matrix(advertising[:,Not(:Sales)]), dims=1) ]\n",
    "y = standardize(ZScoreTransform,advertising.Sales);"
   ]
  },
  {
   "cell_type": "markdown",
   "metadata": {},
   "source": [
    "# Defining Empirical Risk Function "
   ]
  },
  {
   "cell_type": "code",
   "execution_count": 126,
   "metadata": {},
   "outputs": [
    {
     "data": {
      "text/plain": [
       "mse_i (generic function with 1 method)"
      ]
     },
     "execution_count": 126,
     "metadata": {},
     "output_type": "execute_result"
    }
   ],
   "source": [
    "ŷ(X,β) = X * β # y_prediction \n",
    "loss = L2DistLoss() \n",
    "mse(β) = sum(value(loss,ŷ(X,β),y))\n",
    "mse_i(β) = (i,) -> sum(value(loss,ŷ(X[i,:]',β),y[i])) # to compute empirical risk at each observation "
   ]
  },
  {
   "cell_type": "markdown",
   "metadata": {},
   "source": [
    "# Optimizing using Empirical Risk Minimization Framework "
   ]
  },
  {
   "cell_type": "code",
   "execution_count": 127,
   "metadata": {},
   "outputs": [
    {
     "data": {
      "text/plain": [
       " * Status: success\n",
       "\n",
       " * Candidate solution\n",
       "    Final objective value:     2.045508e+01\n",
       "\n",
       " * Found with\n",
       "    Algorithm:     Nelder-Mead\n",
       "\n",
       " * Convergence measures\n",
       "    √(Σ(yᵢ-ȳ)²)/n ≤ 1.0e-08\n",
       "\n",
       " * Work counters\n",
       "    Seconds run:   0  (vs limit Inf)\n",
       "    Iterations:    145\n",
       "    f(x) calls:    256\n"
      ]
     },
     "execution_count": 127,
     "metadata": {},
     "output_type": "execute_result"
    }
   ],
   "source": [
    "β = zeros(m)\n",
    "results = optimize(mse,β)"
   ]
  },
  {
   "cell_type": "markdown",
   "metadata": {},
   "source": [
    "# Extracting the strict local minimizer "
   ]
  },
  {
   "cell_type": "code",
   "execution_count": 128,
   "metadata": {},
   "outputs": [
    {
     "data": {
      "text/plain": [
       "4-element Vector{Float64}:\n",
       " -8.16027306269304e-7\n",
       "  0.7530632323952828\n",
       "  0.5364769753595116\n",
       " -0.004324142304595064"
      ]
     },
     "execution_count": 128,
     "metadata": {},
     "output_type": "execute_result"
    }
   ],
   "source": [
    "params = Optim.minimizer(results)"
   ]
  },
  {
   "cell_type": "markdown",
   "metadata": {},
   "source": [
    "### Gradients at each data point - $g_i$"
   ]
  },
  {
   "cell_type": "code",
   "execution_count": 132,
   "metadata": {},
   "outputs": [],
   "source": [
    "G = Matrix{Float64}(undef,n,m);\n",
    "for i in 1:n\n",
    "    G[i,:] = gradient(x->mse_i(x)(i),params)[1]\n",
    "end"
   ]
  },
  {
   "cell_type": "code",
   "execution_count": 136,
   "metadata": {},
   "outputs": [
    {
     "data": {
      "text/plain": [
       "4×4 Matrix{Float64}:\n",
       "  0.409102   -0.140573    0.0303325  -0.0316571\n",
       " -0.140573    0.739208   -0.26708    -0.0103427\n",
       "  0.0303325  -0.26708     0.598395    0.160148\n",
       " -0.0316571  -0.0103427   0.160148    0.469238"
      ]
     },
     "execution_count": 136,
     "metadata": {},
     "output_type": "execute_result"
    }
   ],
   "source": [
    "B = G' * G / n "
   ]
  },
  {
   "cell_type": "code",
   "execution_count": 143,
   "metadata": {},
   "outputs": [
    {
     "data": {
      "text/plain": [
       "4-element Vector{Float64}:\n",
       " 0.005036217242648921\n",
       " 0.008646567139358663\n",
       " 0.014254829451392323\n",
       " 0.017000355021203825"
      ]
     },
     "execution_count": 143,
     "metadata": {},
     "output_type": "execute_result"
    }
   ],
   "source": [
    "OPG = inv(B) / n \n",
    "eigvals(OPG)"
   ]
  },
  {
   "cell_type": "code",
   "execution_count": 195,
   "metadata": {},
   "outputs": [
    {
     "data": {
      "text/plain": [
       "4×4 Matrix{Float64}:\n",
       " 2.0          9.17044e-16  6.52811e-16  4.52971e-16\n",
       " 9.17044e-16  1.99         0.109069     0.112729\n",
       " 6.52811e-16  0.109069     1.99         0.704666\n",
       " 4.52971e-16  0.112729     0.704666     1.99"
      ]
     },
     "execution_count": 195,
     "metadata": {},
     "output_type": "execute_result"
    }
   ],
   "source": [
    "A = hessian(mse,params) / n "
   ]
  },
  {
   "cell_type": "code",
   "execution_count": 202,
   "metadata": {},
   "outputs": [
    {
     "data": {
      "text/plain": [
       "4×4 Matrix{Float64}:\n",
       "  0.102275   -0.0354467   0.0133426  -0.0106707\n",
       " -0.0354467   0.194618   -0.0903056   0.0116464\n",
       "  0.0133426  -0.0903056   0.18639    -0.0622513\n",
       " -0.0106707   0.0116464  -0.0622513   0.140886"
      ]
     },
     "execution_count": 202,
     "metadata": {},
     "output_type": "execute_result"
    }
   ],
   "source": [
    "C = inv(A) * B * inv(A)"
   ]
  },
  {
   "cell_type": "markdown",
   "metadata": {},
   "source": [
    "## Checking if both A and B are positive definite "
   ]
  },
  {
   "cell_type": "code",
   "execution_count": 201,
   "metadata": {},
   "outputs": [
    {
     "name": "stdout",
     "output_type": "stream",
     "text": [
      "isposdef(A) = true\n",
      "isposdef(B) = true\n"
     ]
    }
   ],
   "source": [
    "@show isposdef(A);\n",
    "@show isposdef(B);"
   ]
  },
  {
   "cell_type": "markdown",
   "metadata": {},
   "source": [
    "# Robust Covariane Matrix using $\\hat{C}$"
   ]
  },
  {
   "cell_type": "code",
   "execution_count": 203,
   "metadata": {},
   "outputs": [
    {
     "data": {
      "text/plain": [
       "4×4 Matrix{Float64}:\n",
       " 0.0526636   0.010653    0.00285017  0.00436747\n",
       " 0.010653    0.0359362   0.0186829   0.00609132\n",
       " 0.00285017  0.0186829   0.0413286   0.0169328\n",
       " 0.00436747  0.00609132  0.0169328   0.0427988"
      ]
     },
     "execution_count": 203,
     "metadata": {},
     "output_type": "execute_result"
    }
   ],
   "source": [
    "robust_cov = inv(C) / n "
   ]
  },
  {
   "cell_type": "markdown",
   "metadata": {},
   "source": [
    "# Classical Convariance Matrix using $\\hat{A}$"
   ]
  },
  {
   "cell_type": "code",
   "execution_count": 208,
   "metadata": {},
   "outputs": [
    {
     "data": {
      "text/plain": [
       "4×4 Matrix{Float64}:\n",
       "  0.0025       -1.1003e-18   -6.6358e-19   -2.71753e-19\n",
       " -1.1003e-18    0.00252415   -0.000100288  -0.000107475\n",
       " -6.6358e-19   -0.000100288   0.00287676   -0.00101299\n",
       " -2.71753e-19  -0.000107475  -0.00101299    0.00287736"
      ]
     },
     "execution_count": 208,
     "metadata": {},
     "output_type": "execute_result"
    }
   ],
   "source": [
    "classical_cov = inv(A) / n "
   ]
  }
 ],
 "metadata": {
  "kernelspec": {
   "display_name": "Julia 1.6.2",
   "language": "julia",
   "name": "julia-1.6"
  },
  "language_info": {
   "file_extension": ".jl",
   "mimetype": "application/julia",
   "name": "julia",
   "version": "1.6.2"
  }
 },
 "nbformat": 4,
 "nbformat_minor": 2
}
