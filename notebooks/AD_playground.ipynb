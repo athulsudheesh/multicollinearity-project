{
 "cells": [
  {
   "cell_type": "markdown",
   "source": [
    "Automatic Differentation has two modes:\n",
    "- Forward mode: use when the function is $R^{N} \\rarr R$\n",
    "- Reverse mode: use when the function is $R \\rarr R^{N}$"
   ],
   "metadata": {}
  },
  {
   "cell_type": "code",
   "execution_count": 143,
   "source": [
    "using CSV, DataFrames, RDatasets, DrWatson\n",
    "using Flux, Optim\n",
    "using StatsBase\n",
    "using Zygote\n",
    "using LossFunctions"
   ],
   "outputs": [],
   "metadata": {}
  },
  {
   "cell_type": "code",
   "execution_count": 138,
   "source": [
    "datapath = datadir(\"exp_raw\");\n",
    "advertising = CSV.File(joinpath(datapath, \"Advertising.csv\")) |> DataFrame\n",
    "advertising = advertising[!,Not(:Column1)]\n",
    "n,m = size(advertising)\n",
    "first(advertising,5)\n",
    "X = [ones(n) standardize(ZScoreTransform,Matrix(advertising[:,Not(:Sales)]), dims=1) ][1:10,:]\n",
    "y = standardize(ZScoreTransform,advertising.Sales)[1:10];"
   ],
   "outputs": [],
   "metadata": {}
  },
  {
   "cell_type": "code",
   "execution_count": 191,
   "source": [
    "ŷ(X,β) = X * β"
   ],
   "outputs": [
    {
     "output_type": "execute_result",
     "data": {
      "text/plain": [
       "ŷ (generic function with 1 method)"
      ]
     },
     "metadata": {},
     "execution_count": 191
    }
   ],
   "metadata": {}
  },
  {
   "cell_type": "code",
   "execution_count": 145,
   "source": [
    "loss = L2DistLoss()\n",
    "mse(β) = sum(value(loss,ŷ(X,β),y))"
   ],
   "outputs": [
    {
     "output_type": "execute_result",
     "data": {
      "text/plain": [
       "mse (generic function with 1 method)"
      ]
     },
     "metadata": {},
     "execution_count": 145
    }
   ],
   "metadata": {}
  },
  {
   "cell_type": "code",
   "execution_count": 172,
   "source": [
    "mse_i(β) = (i,) -> sum(value(loss,ŷ(X[i,:]',β),y[i]))"
   ],
   "outputs": [
    {
     "output_type": "execute_result",
     "data": {
      "text/plain": [
       "mse_i (generic function with 1 method)"
      ]
     },
     "metadata": {},
     "execution_count": 172
    }
   ],
   "metadata": {}
  },
  {
   "cell_type": "code",
   "execution_count": 173,
   "source": [
    "mse_i(β)(1)"
   ],
   "outputs": [
    {
     "output_type": "execute_result",
     "data": {
      "text/plain": [
       "1.5906124836029452"
      ]
     },
     "metadata": {},
     "execution_count": 173
    }
   ],
   "metadata": {}
  },
  {
   "cell_type": "markdown",
   "source": [
    "## Checking the gradients from analytical formula and automatic differentiation"
   ],
   "metadata": {}
  },
  {
   "cell_type": "code",
   "execution_count": 175,
   "source": [
    "gradient(mse,β)[1]"
   ],
   "outputs": [
    {
     "output_type": "execute_result",
     "data": {
      "text/plain": [
       "4-element Vector{Float64}:\n",
       " 18.553342921581297\n",
       " -5.438873520719471\n",
       "  9.32915138412945\n",
       " 24.629807735784837"
      ]
     },
     "metadata": {},
     "execution_count": 175
    }
   ],
   "metadata": {}
  },
  {
   "cell_type": "code",
   "execution_count": 193,
   "source": [
    "-2*X'*y .+ 2*X'*ŷ(X,β)"
   ],
   "outputs": [
    {
     "output_type": "execute_result",
     "data": {
      "text/plain": [
       "4-element Vector{Float64}:\n",
       " 18.5533429215813\n",
       " -5.438873520719472\n",
       "  9.32915138412945\n",
       " 24.629807735784834"
      ]
     },
     "metadata": {},
     "execution_count": 193
    }
   ],
   "metadata": {}
  },
  {
   "cell_type": "markdown",
   "source": [
    "----"
   ],
   "metadata": {}
  },
  {
   "cell_type": "markdown",
   "source": [
    "## Analytical Gradient at each data point "
   ],
   "metadata": {}
  },
  {
   "cell_type": "code",
   "execution_count": 201,
   "source": [
    "g_(i) = 2 * X[i,:]'ŷ(X[i,:]',β) .-2*X[i,:]'*y[i]"
   ],
   "outputs": [
    {
     "output_type": "execute_result",
     "data": {
      "text/plain": [
       "g_ (generic function with 1 method)"
      ]
     },
     "metadata": {},
     "execution_count": 201
    }
   ],
   "metadata": {}
  },
  {
   "cell_type": "code",
   "execution_count": 213,
   "source": [
    "n = 10"
   ],
   "outputs": [
    {
     "output_type": "execute_result",
     "data": {
      "text/plain": [
       "10"
      ]
     },
     "metadata": {},
     "execution_count": 213
    }
   ],
   "metadata": {}
  },
  {
   "cell_type": "code",
   "execution_count": 214,
   "source": [
    "G = Matrix{Float64}(undef,n,m);\n",
    "for i in 1:n\n",
    "    G[i,:] =g_(i)\n",
    "end"
   ],
   "outputs": [],
   "metadata": {}
  },
  {
   "cell_type": "code",
   "execution_count": 215,
   "source": [
    "G"
   ],
   "outputs": [
    {
     "output_type": "execute_result",
     "data": {
      "text/plain": [
       "10×4 Matrix{Float64}:\n",
       "  2.52239    2.44022     2.46958     4.47596\n",
       "  1.43215   -1.71053     1.54686     0.956537\n",
       "  2.80464   -4.24162     4.27605     4.98968\n",
       "  1.53231    0.0795567   1.86146     1.96624\n",
       "  4.08799    1.60738    -3.4319      5.22688\n",
       "  3.79889   -6.12139     6.55954     7.7528\n",
       " -0.20828    0.217228   -0.133777    0.067461\n",
       " -0.201799   0.063093    0.0498015   0.175627\n",
       " -0.231596   0.373455    0.330138    0.31428\n",
       "  3.01665    1.85374    -4.19862    -1.29566"
      ]
     },
     "metadata": {},
     "execution_count": 215
    }
   ],
   "metadata": {}
  },
  {
   "cell_type": "markdown",
   "source": [
    "## Automatic Differentiation at each data point "
   ],
   "metadata": {}
  },
  {
   "cell_type": "code",
   "execution_count": 218,
   "source": [
    "G2 = Matrix{Float64}(undef,n,m);\n",
    "for i in 1:n\n",
    "    G2[i,:] = gradient(x->mse_i(x)(i),β)[1]\n",
    "end"
   ],
   "outputs": [],
   "metadata": {}
  },
  {
   "cell_type": "code",
   "execution_count": 219,
   "source": [
    "G2"
   ],
   "outputs": [
    {
     "output_type": "execute_result",
     "data": {
      "text/plain": [
       "10×4 Matrix{Float64}:\n",
       "  2.52239    2.44022     2.46958     4.47596\n",
       "  1.43215   -1.71053     1.54686     0.956537\n",
       "  2.80464   -4.24162     4.27605     4.98968\n",
       "  1.53231    0.0795567   1.86146     1.96624\n",
       "  4.08799    1.60738    -3.4319      5.22688\n",
       "  3.79889   -6.12139     6.55954     7.7528\n",
       " -0.20828    0.217228   -0.133777    0.067461\n",
       " -0.201799   0.063093    0.0498015   0.175627\n",
       " -0.231596   0.373455    0.330138    0.31428\n",
       "  3.01665    1.85374    -4.19862    -1.29566"
      ]
     },
     "metadata": {},
     "execution_count": 219
    }
   ],
   "metadata": {}
  }
 ],
 "metadata": {
  "orig_nbformat": 4,
  "language_info": {
   "file_extension": ".jl",
   "name": "julia",
   "mimetype": "application/julia",
   "version": "1.6.2"
  },
  "kernelspec": {
   "name": "julia-1.6",
   "display_name": "Julia 1.6.2",
   "language": "julia"
  }
 },
 "nbformat": 4,
 "nbformat_minor": 2
}